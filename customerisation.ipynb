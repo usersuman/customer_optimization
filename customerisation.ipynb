{
 "cells": [
  {
   "cell_type": "code",
   "execution_count": 1,
   "id": "4f06706d",
   "metadata": {},
   "outputs": [],
   "source": [
    "import pandas as pd\n",
    "import numpy as np\n",
    "import matplotlib.pyplot as plt\n",
    "import datetime as dt\n",
    "import seaborn as sns\n",
    "sns.set()"
   ]
  },
  {
   "cell_type": "markdown",
   "id": "52362ec2",
   "metadata": {},
   "source": [
    "### LOAD DATASET"
   ]
  },
  {
   "cell_type": "code",
   "execution_count": 2,
   "id": "867660dc",
   "metadata": {},
   "outputs": [
    {
     "data": {
      "text/html": [
       "<div>\n",
       "<style scoped>\n",
       "    .dataframe tbody tr th:only-of-type {\n",
       "        vertical-align: middle;\n",
       "    }\n",
       "\n",
       "    .dataframe tbody tr th {\n",
       "        vertical-align: top;\n",
       "    }\n",
       "\n",
       "    .dataframe thead th {\n",
       "        text-align: right;\n",
       "    }\n",
       "</style>\n",
       "<table border=\"1\" class=\"dataframe\">\n",
       "  <thead>\n",
       "    <tr style=\"text-align: right;\">\n",
       "      <th></th>\n",
       "      <th>order_id</th>\n",
       "      <th>customer_id</th>\n",
       "      <th>date</th>\n",
       "      <th>order_price</th>\n",
       "      <th>delivery_charges</th>\n",
       "      <th>coupon_discount</th>\n",
       "      <th>order_total</th>\n",
       "      <th>is_expedited_delivery</th>\n",
       "      <th>latest_customer_review</th>\n",
       "      <th>is_happy_customer</th>\n",
       "    </tr>\n",
       "  </thead>\n",
       "  <tbody>\n",
       "    <tr>\n",
       "      <th>0</th>\n",
       "      <td>ORD182494</td>\n",
       "      <td>ID6197211592</td>\n",
       "      <td>22-06-2019</td>\n",
       "      <td>12200</td>\n",
       "      <td>79.89</td>\n",
       "      <td>10</td>\n",
       "      <td>11059.89</td>\n",
       "      <td>True</td>\n",
       "      <td>perfect phone and trusted seller. phone itself...</td>\n",
       "      <td>True</td>\n",
       "    </tr>\n",
       "    <tr>\n",
       "      <th>1</th>\n",
       "      <td>ORD395518</td>\n",
       "      <td>ID0282825849</td>\n",
       "      <td>29-12-2019</td>\n",
       "      <td>9080</td>\n",
       "      <td>62.71</td>\n",
       "      <td>0</td>\n",
       "      <td>9142.71</td>\n",
       "      <td>False</td>\n",
       "      <td>it keeps dropping calls the wifi don't work th...</td>\n",
       "      <td>False</td>\n",
       "    </tr>\n",
       "    <tr>\n",
       "      <th>2</th>\n",
       "      <td>ORD494479</td>\n",
       "      <td>ID6197211592</td>\n",
       "      <td>02-03-2019</td>\n",
       "      <td>10670</td>\n",
       "      <td>65.87</td>\n",
       "      <td>10</td>\n",
       "      <td>9668.87</td>\n",
       "      <td>False</td>\n",
       "      <td>five stars this is a great cheap phone.</td>\n",
       "      <td>True</td>\n",
       "    </tr>\n",
       "    <tr>\n",
       "      <th>3</th>\n",
       "      <td>ORD019224</td>\n",
       "      <td>ID4544561904</td>\n",
       "      <td>12-01-2019</td>\n",
       "      <td>24800</td>\n",
       "      <td>57.61</td>\n",
       "      <td>15</td>\n",
       "      <td>21137.61</td>\n",
       "      <td>False</td>\n",
       "      <td>charger did not fit the charger didn't fit.</td>\n",
       "      <td>False</td>\n",
       "    </tr>\n",
       "    <tr>\n",
       "      <th>4</th>\n",
       "      <td>ORD104032</td>\n",
       "      <td>ID6231506320</td>\n",
       "      <td>28-11-2019</td>\n",
       "      <td>9145</td>\n",
       "      <td>75.54</td>\n",
       "      <td>25</td>\n",
       "      <td>6934.29</td>\n",
       "      <td>False</td>\n",
       "      <td>four stars good</td>\n",
       "      <td>True</td>\n",
       "    </tr>\n",
       "  </tbody>\n",
       "</table>\n",
       "</div>"
      ],
      "text/plain": [
       "    order_id   customer_id        date  order_price  delivery_charges  \\\n",
       "0  ORD182494  ID6197211592  22-06-2019        12200             79.89   \n",
       "1  ORD395518  ID0282825849  29-12-2019         9080             62.71   \n",
       "2  ORD494479  ID6197211592  02-03-2019        10670             65.87   \n",
       "3  ORD019224  ID4544561904  12-01-2019        24800             57.61   \n",
       "4  ORD104032  ID6231506320  28-11-2019         9145             75.54   \n",
       "\n",
       "   coupon_discount  order_total  is_expedited_delivery  \\\n",
       "0               10     11059.89                   True   \n",
       "1                0      9142.71                  False   \n",
       "2               10      9668.87                  False   \n",
       "3               15     21137.61                  False   \n",
       "4               25      6934.29                  False   \n",
       "\n",
       "                              latest_customer_review  is_happy_customer  \n",
       "0  perfect phone and trusted seller. phone itself...               True  \n",
       "1  it keeps dropping calls the wifi don't work th...              False  \n",
       "2            five stars this is a great cheap phone.               True  \n",
       "3        charger did not fit the charger didn't fit.              False  \n",
       "4                                    four stars good               True  "
      ]
     },
     "execution_count": 2,
     "metadata": {},
     "output_type": "execute_result"
    }
   ],
   "source": [
    "raw_data=pd.read_csv('retailed_data.csv')\n",
    "dataset=raw_data.copy()\n",
    "dataset.head()"
   ]
  },
  {
   "cell_type": "markdown",
   "id": "d98685c8",
   "metadata": {},
   "source": [
    "### Check if the dataset contains any NULL value"
   ]
  },
  {
   "cell_type": "code",
   "execution_count": 3,
   "id": "9d26befe",
   "metadata": {},
   "outputs": [
    {
     "data": {
      "text/plain": [
       "order_id                  0\n",
       "customer_id               0\n",
       "date                      0\n",
       "order_price               0\n",
       "delivery_charges          0\n",
       "coupon_discount           0\n",
       "order_total               0\n",
       "is_expedited_delivery     0\n",
       "latest_customer_review    0\n",
       "is_happy_customer         0\n",
       "dtype: int64"
      ]
     },
     "execution_count": 3,
     "metadata": {},
     "output_type": "execute_result"
    }
   ],
   "source": [
    "dataset.isnull().sum()"
   ]
  },
  {
   "cell_type": "code",
   "execution_count": 4,
   "id": "a3f4963a",
   "metadata": {},
   "outputs": [],
   "source": [
    "#Changing the date type to be recognisable\n",
    "dataset['date']=pd.to_datetime(dataset['date'],format=\"%d-%m-%Y\")\n",
    "today=dt.datetime(2020,1,1)"
   ]
  },
  {
   "cell_type": "code",
   "execution_count": 5,
   "id": "d229c813",
   "metadata": {},
   "outputs": [
    {
     "data": {
      "text/html": [
       "<div>\n",
       "<style scoped>\n",
       "    .dataframe tbody tr th:only-of-type {\n",
       "        vertical-align: middle;\n",
       "    }\n",
       "\n",
       "    .dataframe tbody tr th {\n",
       "        vertical-align: top;\n",
       "    }\n",
       "\n",
       "    .dataframe thead th {\n",
       "        text-align: right;\n",
       "    }\n",
       "</style>\n",
       "<table border=\"1\" class=\"dataframe\">\n",
       "  <thead>\n",
       "    <tr style=\"text-align: right;\">\n",
       "      <th></th>\n",
       "      <th>order_total</th>\n",
       "      <th>date</th>\n",
       "      <th>order_id</th>\n",
       "    </tr>\n",
       "    <tr>\n",
       "      <th>customer_id</th>\n",
       "      <th></th>\n",
       "      <th></th>\n",
       "      <th></th>\n",
       "    </tr>\n",
       "  </thead>\n",
       "  <tbody>\n",
       "    <tr>\n",
       "      <th>ID0030385486</th>\n",
       "      <td>15585.36</td>\n",
       "      <td>108</td>\n",
       "      <td>1</td>\n",
       "    </tr>\n",
       "    <tr>\n",
       "      <th>ID0030385740</th>\n",
       "      <td>14145.50</td>\n",
       "      <td>182</td>\n",
       "      <td>1</td>\n",
       "    </tr>\n",
       "    <tr>\n",
       "      <th>ID0030946633</th>\n",
       "      <td>13195.69</td>\n",
       "      <td>181</td>\n",
       "      <td>2</td>\n",
       "    </tr>\n",
       "    <tr>\n",
       "      <th>ID0036822341</th>\n",
       "      <td>3912.99</td>\n",
       "      <td>253</td>\n",
       "      <td>1</td>\n",
       "    </tr>\n",
       "    <tr>\n",
       "      <th>ID0036825302</th>\n",
       "      <td>2152.60</td>\n",
       "      <td>59</td>\n",
       "      <td>1</td>\n",
       "    </tr>\n",
       "  </tbody>\n",
       "</table>\n",
       "</div>"
      ],
      "text/plain": [
       "              order_total  date  order_id\n",
       "customer_id                              \n",
       "ID0030385486     15585.36   108         1\n",
       "ID0030385740     14145.50   182         1\n",
       "ID0030946633     13195.69   181         2\n",
       "ID0036822341      3912.99   253         1\n",
       "ID0036825302      2152.60    59         1"
      ]
     },
     "execution_count": 5,
     "metadata": {},
     "output_type": "execute_result"
    }
   ],
   "source": [
    "#calucaling the recency frequecy and monetary for each customer by their customer_id\n",
    "rfm_data=dataset.groupby('customer_id').agg({'order_total':lambda x: x.sum(),\n",
    "                                           'date':lambda x: (today-x.max()).days,\n",
    "                                            'order_id':lambda x: len(x)})\n",
    "rfm_data.head()"
   ]
  },
  {
   "cell_type": "code",
   "execution_count": 6,
   "id": "3613072f",
   "metadata": {},
   "outputs": [
    {
     "data": {
      "text/html": [
       "<div>\n",
       "<style scoped>\n",
       "    .dataframe tbody tr th:only-of-type {\n",
       "        vertical-align: middle;\n",
       "    }\n",
       "\n",
       "    .dataframe tbody tr th {\n",
       "        vertical-align: top;\n",
       "    }\n",
       "\n",
       "    .dataframe thead th {\n",
       "        text-align: right;\n",
       "    }\n",
       "</style>\n",
       "<table border=\"1\" class=\"dataframe\">\n",
       "  <thead>\n",
       "    <tr style=\"text-align: right;\">\n",
       "      <th></th>\n",
       "      <th>monetary</th>\n",
       "      <th>recency</th>\n",
       "      <th>frequency</th>\n",
       "    </tr>\n",
       "    <tr>\n",
       "      <th>customer_id</th>\n",
       "      <th></th>\n",
       "      <th></th>\n",
       "      <th></th>\n",
       "    </tr>\n",
       "  </thead>\n",
       "  <tbody>\n",
       "    <tr>\n",
       "      <th>ID0030385486</th>\n",
       "      <td>15585.36</td>\n",
       "      <td>108</td>\n",
       "      <td>1</td>\n",
       "    </tr>\n",
       "    <tr>\n",
       "      <th>ID0030385740</th>\n",
       "      <td>14145.50</td>\n",
       "      <td>182</td>\n",
       "      <td>1</td>\n",
       "    </tr>\n",
       "    <tr>\n",
       "      <th>ID0030946633</th>\n",
       "      <td>13195.69</td>\n",
       "      <td>181</td>\n",
       "      <td>2</td>\n",
       "    </tr>\n",
       "    <tr>\n",
       "      <th>ID0036822341</th>\n",
       "      <td>3912.99</td>\n",
       "      <td>253</td>\n",
       "      <td>1</td>\n",
       "    </tr>\n",
       "    <tr>\n",
       "      <th>ID0036825302</th>\n",
       "      <td>2152.60</td>\n",
       "      <td>59</td>\n",
       "      <td>1</td>\n",
       "    </tr>\n",
       "  </tbody>\n",
       "</table>\n",
       "</div>"
      ],
      "text/plain": [
       "              monetary  recency  frequency\n",
       "customer_id                               \n",
       "ID0030385486  15585.36      108          1\n",
       "ID0030385740  14145.50      182          1\n",
       "ID0030946633  13195.69      181          2\n",
       "ID0036822341   3912.99      253          1\n",
       "ID0036825302   2152.60       59          1"
      ]
     },
     "execution_count": 6,
     "metadata": {},
     "output_type": "execute_result"
    }
   ],
   "source": [
    "#renaming the columns of the table\n",
    "rename=['monetary', 'recency', 'frequency']\n",
    "rfm_data.columns=rename\n",
    "rfm_data.head()"
   ]
  },
  {
   "cell_type": "markdown",
   "id": "4f02ecff",
   "metadata": {},
   "source": [
    "### Plot the distribution of the predictors"
   ]
  },
  {
   "cell_type": "code",
   "execution_count": 7,
   "id": "4f689fa0",
   "metadata": {},
   "outputs": [
    {
     "data": {
      "image/png": "[encoded data removed]",
      "text/plain": [
       "<Figure size 864x720 with 3 Axes>"
      ]
     },
     "metadata": {},
     "output_type": "display_data"
    }
   ],
   "source": [
    "plt.figure(figsize=(12,10))\n",
    "# Plot distribution of recency\n",
    "plt.subplot(3, 1, 1); sns.histplot(data=rfm_data['recency'],kde=True)\n",
    "# Plot distribution of frequency\n",
    "plt.subplot(3, 1, 2); sns.histplot(data=rfm_data['frequency'],kde=True)\n",
    "# Plot distribution of monetary\n",
    "plt.subplot(3, 1, 3); sns.histplot(data=rfm_data['monetary'],kde=True)\n",
    "# Show the plot\n",
    "plt.show()"
   ]
  },
  {
   "cell_type": "markdown",
   "id": "bf1703ab",
   "metadata": {},
   "source": [
    "### As the predictors are not scaled then the cluster can unevenly effeted. So, scale the predictors data"
   ]
  },
  {
   "cell_type": "code",
   "execution_count": 8,
   "id": "d59d77db",
   "metadata": {},
   "outputs": [
    {
     "data": {
      "text/html": [
       "<div>\n",
       "<style scoped>\n",
       "    .dataframe tbody tr th:only-of-type {\n",
       "        vertical-align: middle;\n",
       "    }\n",
       "\n",
       "    .dataframe tbody tr th {\n",
       "        vertical-align: top;\n",
       "    }\n",
       "\n",
       "    .dataframe thead th {\n",
       "        text-align: right;\n",
       "    }\n",
       "</style>\n",
       "<table border=\"1\" class=\"dataframe\">\n",
       "  <thead>\n",
       "    <tr style=\"text-align: right;\">\n",
       "      <th></th>\n",
       "      <th>monetary</th>\n",
       "      <th>recency</th>\n",
       "      <th>frequency</th>\n",
       "    </tr>\n",
       "  </thead>\n",
       "  <tbody>\n",
       "    <tr>\n",
       "      <th>0</th>\n",
       "      <td>-0.165452</td>\n",
       "      <td>-0.662214</td>\n",
       "      <td>-0.193379</td>\n",
       "    </tr>\n",
       "    <tr>\n",
       "      <th>1</th>\n",
       "      <td>-0.177077</td>\n",
       "      <td>0.035491</td>\n",
       "      <td>-0.193379</td>\n",
       "    </tr>\n",
       "    <tr>\n",
       "      <th>2</th>\n",
       "      <td>-0.184746</td>\n",
       "      <td>0.026063</td>\n",
       "      <td>0.461396</td>\n",
       "    </tr>\n",
       "    <tr>\n",
       "      <th>3</th>\n",
       "      <td>-0.259695</td>\n",
       "      <td>0.704911</td>\n",
       "      <td>-0.193379</td>\n",
       "    </tr>\n",
       "    <tr>\n",
       "      <th>4</th>\n",
       "      <td>-0.273908</td>\n",
       "      <td>-1.124208</td>\n",
       "      <td>-0.193379</td>\n",
       "    </tr>\n",
       "  </tbody>\n",
       "</table>\n",
       "</div>"
      ],
      "text/plain": [
       "   monetary   recency  frequency\n",
       "0 -0.165452 -0.662214  -0.193379\n",
       "1 -0.177077  0.035491  -0.193379\n",
       "2 -0.184746  0.026063   0.461396\n",
       "3 -0.259695  0.704911  -0.193379\n",
       "4 -0.273908 -1.124208  -0.193379"
      ]
     },
     "execution_count": 8,
     "metadata": {},
     "output_type": "execute_result"
    }
   ],
   "source": [
    "#StandardScaler makes mean = 0 and scales the data to unit variance\n",
    "from sklearn.preprocessing import StandardScaler\n",
    "scaler=StandardScaler()\n",
    "scaled_data=scaler.fit_transform(rfm_data)\n",
    "scaled_rfm=pd.DataFrame(scaled_data,columns=['monetary','recency','frequency'])\n",
    "scaled_rfm.head()\n",
    "#print(rfm_data['monetary'].max())"
   ]
  },
  {
   "cell_type": "markdown",
   "id": "cb7a462b",
   "metadata": {},
   "source": [
    "### ELBOW METHOD:"
   ]
  },
  {
   "cell_type": "code",
   "execution_count": 11,
   "id": "abf2fab9",
   "metadata": {},
   "outputs": [
    {
     "name": "stderr",
     "output_type": "stream",
     "text": [
      "D:\\Anaconda\\anaconda3\\lib\\site-packages\\sklearn\\cluster\\_kmeans.py:1036: UserWarning: KMeans is known to have a memory leak on Windows with MKL, when there are less chunks than available threads. You can avoid it by setting the environment variable OMP_NUM_THREADS=2.\n",
      "  warnings.warn(\n"
     ]
    },
    {
     "data": {
      "image/png": "[encoded data removed]",
      "text/plain": [
       "<Figure size 432x288 with 1 Axes>"
      ]
     },
     "metadata": {},
     "output_type": "display_data"
    }
   ],
   "source": [
    "from sklearn.cluster import KMeans\n",
    "wcss=[]\n",
    "for i in range(1,15):\n",
    "    kmeans=KMeans(i)\n",
    "    kmeans.fit(scaled_rfm)\n",
    "    wcss.append(kmeans.inertia_)\n",
    "clus_no=range(1,15)\n",
    "plt.scatter(clus_no,wcss)\n",
    "plt.plot(clus_no,wcss)\n",
    "plt.xlabel('NUMBER OF CLASSES')\n",
    "plt.ylabel('WCSS')\n",
    "plt.show()"
   ]
  },
  {
   "cell_type": "code",
   "execution_count": 12,
   "id": "029723d0",
   "metadata": {},
   "outputs": [
    {
     "data": {
      "text/html": [
       "<div>\n",
       "<style scoped>\n",
       "    .dataframe tbody tr th:only-of-type {\n",
       "        vertical-align: middle;\n",
       "    }\n",
       "\n",
       "    .dataframe tbody tr th {\n",
       "        vertical-align: top;\n",
       "    }\n",
       "\n",
       "    .dataframe thead th {\n",
       "        text-align: right;\n",
       "    }\n",
       "</style>\n",
       "<table border=\"1\" class=\"dataframe\">\n",
       "  <thead>\n",
       "    <tr style=\"text-align: right;\">\n",
       "      <th></th>\n",
       "      <th>monetary</th>\n",
       "      <th>recency</th>\n",
       "      <th>frequency</th>\n",
       "      <th>Clusters</th>\n",
       "    </tr>\n",
       "    <tr>\n",
       "      <th>customer_id</th>\n",
       "      <th></th>\n",
       "      <th></th>\n",
       "      <th></th>\n",
       "      <th></th>\n",
       "    </tr>\n",
       "  </thead>\n",
       "  <tbody>\n",
       "    <tr>\n",
       "      <th>ID0030385486</th>\n",
       "      <td>15585.36</td>\n",
       "      <td>108</td>\n",
       "      <td>1</td>\n",
       "      <td>4</td>\n",
       "    </tr>\n",
       "    <tr>\n",
       "      <th>ID0030385740</th>\n",
       "      <td>14145.50</td>\n",
       "      <td>182</td>\n",
       "      <td>1</td>\n",
       "      <td>0</td>\n",
       "    </tr>\n",
       "    <tr>\n",
       "      <th>ID0030946633</th>\n",
       "      <td>13195.69</td>\n",
       "      <td>181</td>\n",
       "      <td>2</td>\n",
       "      <td>0</td>\n",
       "    </tr>\n",
       "    <tr>\n",
       "      <th>ID0036822341</th>\n",
       "      <td>3912.99</td>\n",
       "      <td>253</td>\n",
       "      <td>1</td>\n",
       "      <td>0</td>\n",
       "    </tr>\n",
       "    <tr>\n",
       "      <th>ID0036825302</th>\n",
       "      <td>2152.60</td>\n",
       "      <td>59</td>\n",
       "      <td>1</td>\n",
       "      <td>4</td>\n",
       "    </tr>\n",
       "  </tbody>\n",
       "</table>\n",
       "</div>"
      ],
      "text/plain": [
       "              monetary  recency  frequency  Clusters\n",
       "customer_id                                         \n",
       "ID0030385486  15585.36      108          1         4\n",
       "ID0030385740  14145.50      182          1         0\n",
       "ID0030946633  13195.69      181          2         0\n",
       "ID0036822341   3912.99      253          1         0\n",
       "ID0036825302   2152.60       59          1         4"
      ]
     },
     "execution_count": 12,
     "metadata": {},
     "output_type": "execute_result"
    }
   ],
   "source": [
    "#By the plot ,the most effective k is equals to 5\n",
    "kmeans=KMeans(5)\n",
    "kmeans.fit(scaled_data)\n",
    "rfm_data['Clusters']=kmeans.fit_predict(scaled_rfm)\n",
    "rfm_data.head()"
   ]
  },
  {
   "cell_type": "code",
   "execution_count": 13,
   "id": "2a91f48b",
   "metadata": {},
   "outputs": [
    {
     "data": {
      "image/png": "[encoded data removed]",
      "text/plain": [
       "<Figure size 432x288 with 1 Axes>"
      ]
     },
     "metadata": {},
     "output_type": "display_data"
    }
   ],
   "source": [
    "plt.scatter(rfm_data['recency'],rfm_data['monetary']*rfm_data['frequency'],c=rfm_data['Clusters'],cmap='rainbow',alpha=0.5)\n",
    "plt.xlabel('recency')\n",
    "plt.ylabel('monetary')\n",
    "plt.show()"
   ]
  },
  {
   "cell_type": "code",
   "execution_count": 14,
   "id": "e2f5c1d5",
   "metadata": {},
   "outputs": [
    {
     "data": {
      "text/html": [
       "<div>\n",
       "<style scoped>\n",
       "    .dataframe tbody tr th:only-of-type {\n",
       "        vertical-align: middle;\n",
       "    }\n",
       "\n",
       "    .dataframe tbody tr th {\n",
       "        vertical-align: top;\n",
       "    }\n",
       "\n",
       "    .dataframe thead th {\n",
       "        text-align: right;\n",
       "    }\n",
       "</style>\n",
       "<table border=\"1\" class=\"dataframe\">\n",
       "  <thead>\n",
       "    <tr style=\"text-align: right;\">\n",
       "      <th></th>\n",
       "      <th>monetary</th>\n",
       "      <th>recency</th>\n",
       "      <th>frequency</th>\n",
       "    </tr>\n",
       "    <tr>\n",
       "      <th>Clusters</th>\n",
       "      <th></th>\n",
       "      <th></th>\n",
       "      <th></th>\n",
       "    </tr>\n",
       "  </thead>\n",
       "  <tbody>\n",
       "    <tr>\n",
       "      <th>0</th>\n",
       "      <td>15910.826963</td>\n",
       "      <td>269.994764</td>\n",
       "      <td>1.068063</td>\n",
       "    </tr>\n",
       "    <tr>\n",
       "      <th>1</th>\n",
       "      <td>70442.748889</td>\n",
       "      <td>60.111111</td>\n",
       "      <td>6.333333</td>\n",
       "    </tr>\n",
       "    <tr>\n",
       "      <th>2</th>\n",
       "      <td>788420.565000</td>\n",
       "      <td>146.125000</td>\n",
       "      <td>2.125000</td>\n",
       "    </tr>\n",
       "    <tr>\n",
       "      <th>3</th>\n",
       "      <td>543841.720000</td>\n",
       "      <td>13.500000</td>\n",
       "      <td>17.500000</td>\n",
       "    </tr>\n",
       "    <tr>\n",
       "      <th>4</th>\n",
       "      <td>16237.520398</td>\n",
       "      <td>88.028409</td>\n",
       "      <td>1.062500</td>\n",
       "    </tr>\n",
       "  </tbody>\n",
       "</table>\n",
       "</div>"
      ],
      "text/plain": [
       "               monetary     recency  frequency\n",
       "Clusters                                      \n",
       "0          15910.826963  269.994764   1.068063\n",
       "1          70442.748889   60.111111   6.333333\n",
       "2         788420.565000  146.125000   2.125000\n",
       "3         543841.720000   13.500000  17.500000\n",
       "4          16237.520398   88.028409   1.062500"
      ]
     },
     "execution_count": 14,
     "metadata": {},
     "output_type": "execute_result"
    }
   ],
   "source": [
    "#Determining the cluster indicating the type of customer\n",
    "rfm_data.groupby('Clusters').mean()"
   ]
  },
  {
   "cell_type": "code",
   "execution_count": 19,
   "id": "12c33558",
   "metadata": {},
   "outputs": [
    {
     "data": {
      "text/html": [
       "<div>\n",
       "<style scoped>\n",
       "    .dataframe tbody tr th:only-of-type {\n",
       "        vertical-align: middle;\n",
       "    }\n",
       "\n",
       "    .dataframe tbody tr th {\n",
       "        vertical-align: top;\n",
       "    }\n",
       "\n",
       "    .dataframe thead th {\n",
       "        text-align: right;\n",
       "    }\n",
       "</style>\n",
       "<table border=\"1\" class=\"dataframe\">\n",
       "  <thead>\n",
       "    <tr style=\"text-align: right;\">\n",
       "      <th></th>\n",
       "      <th>monetary</th>\n",
       "      <th>recency</th>\n",
       "      <th>frequency</th>\n",
       "      <th>Clusters</th>\n",
       "      <th>type</th>\n",
       "    </tr>\n",
       "    <tr>\n",
       "      <th>customer_id</th>\n",
       "      <th></th>\n",
       "      <th></th>\n",
       "      <th></th>\n",
       "      <th></th>\n",
       "      <th></th>\n",
       "    </tr>\n",
       "  </thead>\n",
       "  <tbody>\n",
       "    <tr>\n",
       "      <th>ID0030385486</th>\n",
       "      <td>15585.36</td>\n",
       "      <td>108</td>\n",
       "      <td>1</td>\n",
       "      <td>4</td>\n",
       "      <td>Champions</td>\n",
       "    </tr>\n",
       "    <tr>\n",
       "      <th>ID0030385740</th>\n",
       "      <td>14145.50</td>\n",
       "      <td>182</td>\n",
       "      <td>1</td>\n",
       "      <td>0</td>\n",
       "      <td>Need Attention</td>\n",
       "    </tr>\n",
       "    <tr>\n",
       "      <th>ID0030946633</th>\n",
       "      <td>13195.69</td>\n",
       "      <td>181</td>\n",
       "      <td>2</td>\n",
       "      <td>0</td>\n",
       "      <td>Need Attention</td>\n",
       "    </tr>\n",
       "    <tr>\n",
       "      <th>ID0036822341</th>\n",
       "      <td>3912.99</td>\n",
       "      <td>253</td>\n",
       "      <td>1</td>\n",
       "      <td>0</td>\n",
       "      <td>Need Attention</td>\n",
       "    </tr>\n",
       "    <tr>\n",
       "      <th>ID0036825302</th>\n",
       "      <td>2152.60</td>\n",
       "      <td>59</td>\n",
       "      <td>1</td>\n",
       "      <td>4</td>\n",
       "      <td>Champions</td>\n",
       "    </tr>\n",
       "  </tbody>\n",
       "</table>\n",
       "</div>"
      ],
      "text/plain": [
       "              monetary  recency  frequency  Clusters            type\n",
       "customer_id                                                         \n",
       "ID0030385486  15585.36      108          1         4       Champions\n",
       "ID0030385740  14145.50      182          1         0  Need Attention\n",
       "ID0030946633  13195.69      181          2         0  Need Attention\n",
       "ID0036822341   3912.99      253          1         0  Need Attention\n",
       "ID0036825302   2152.60       59          1         4       Champions"
      ]
     },
     "execution_count": 19,
     "metadata": {},
     "output_type": "execute_result"
    }
   ],
   "source": [
    "# Identifying that customer to different types by their cluster means\n",
    "rfm_data['type']=rfm_data['Clusters'].map({0:'Need Attention',1:'promising customer',2:'Potential Customer',3:'Loyal Customer',4:'Champions'})\n",
    "rfm_data.head()"
   ]
  },
  {
   "cell_type": "code",
   "execution_count": null,
   "id": "409b21d7",
   "metadata": {},
   "outputs": [],
   "source": []
  }
 ],
 "metadata": {
  "kernelspec": {
   "display_name": "Python 3 (ipykernel)",
   "language": "python",
   "name": "python3"
  },
  "language_info": {
   "codemirror_mode": {
    "name": "ipython",
    "version": 3
   },
   "file_extension": ".py",
   "mimetype": "text/x-python",
   "name": "python",
   "nbconvert_exporter": "python",
   "pygments_lexer": "ipython3",
   "version": "3.9.12"
  }
 },
 "nbformat": 4,
 "nbformat_minor": 5
}
